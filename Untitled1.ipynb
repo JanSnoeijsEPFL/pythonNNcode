{
 "cells": [
  {
   "cell_type": "code",
   "execution_count": 5,
   "metadata": {},
   "outputs": [],
   "source": [
    "import numpy as np\n",
    "import re\n",
    "from random import randint\n",
    "import target_data_gen_100seq_GENERAL\n",
    "from target_data_gen_100seq_GENERAL import get_sizes_test\n",
    "from target_data_gen_100seq_GENERAL import target_gen\n",
    "from rig.type_casts import \\\n",
    "        NumpyFloatToFixConverter, NumpyFixToFloatConverter\n",
    "import model_fixedpoint\n",
    "from model_fixedpoint import GRU, Conv2D, MaxPool2D, reLU"
   ]
  },
  {
   "cell_type": "code",
   "execution_count": 8,
   "metadata": {},
   "outputs": [
    {
     "name": "stdout",
     "output_type": "stream",
     "text": [
      "Preparing for test phase ...\n"
     ]
    }
   ],
   "source": [
    "# ***************************************#\n",
    "\n",
    "print(\"Preparing for test phase ...\")\n",
    "\n",
    "maxx = 1061.00122101221\n",
    "seq_number = 100\n",
    "nb_files = 8\n",
    "timesteps = 10\n",
    "inputs = 23\n",
    "batch_size = 100\n",
    "startfile = 18\n",
    "minn = 0\n",
    "electrodes = 23\n",
    "X = list()\n",
    "patient = 1\n",
    "dataset_size = 26\n",
    "minn = 0\n",
    "\n",
    "conv_filters = 2\n",
    "conv_height = 2\n",
    "conv_width = 2\n",
    "GRUoutputs = 100\n",
    "GRUinputs = int((inputs-1)/2)*int((batch_size-1)/2)*conv_filters\n",
    "\n",
    "s14 = NumpyFloatToFixConverter(signed=True, n_bits=8, n_frac=4)\n",
    "f4 = NumpyFixToFloatConverter(4)\n",
    "def Quantize(X):\n",
    "    m = 1.0\n",
    "    f = 4.0\n",
    "    Xclip = np.where(X > 2**m, 2**m*np.ones_like(X), X)\n",
    "    Xclip = np.where(Xclip < -2**m, -2**m*np.ones_like(Xclip), Xclip)\n",
    "    Xround = np.round(2**f*Xclip)*2**(-f)\n",
    "    return Xround\n",
    "\n",
    "def normalization(data, minn, maxx):\n",
    "    data = data/maxx\n",
    "    #data = abs(data)/maxx\n",
    "    return data\n",
    "\n",
    "def parse_state(line, string):\n",
    "    if line == string:\n",
    "        return 1\n",
    "    else:\n",
    "        return 0\n",
    "\n",
    "def fill_array(line, array, state):\n",
    "    line = re.sub('[\\n]', '', line)\n",
    "    if state == True:\n",
    "        array.append(line.split(\",\"))\n",
    "        return 1\n",
    "    else:\n",
    "        return 0"
   ]
  },
  {
   "cell_type": "code",
   "execution_count": 9,
   "metadata": {},
   "outputs": [
    {
     "name": "stdout",
     "output_type": "stream",
     "text": [
      "Normalizing data ... \n",
      "maxx 1061.00122101221\n"
     ]
    }
   ],
   "source": [
    "X_test=np.zeros((seq_number*nb_files, timesteps, inputs, batch_size, 1), dtype=np.float16)\n",
    "\n",
    "\n",
    "\n",
    "print(\"Normalizing data ... \")\n",
    "file_test = open(\"../database/RT_datastream.txt\", 'r')\n",
    "X_test = np.loadtxt(file_test, delimiter = \",\")\n",
    "file_test.close()\n",
    "\n",
    "X_test = normalization(X_test, minn, maxx)\n",
    "X_test = Quantize(X_test)\n",
    "X_test = s14(X_test) #convert to numpy uint8 array :)\n",
    "print(\"maxx\", maxx)"
   ]
  },
  {
   "cell_type": "code",
   "execution_count": 12,
   "metadata": {},
   "outputs": [
    {
     "name": "stdout",
     "output_type": "stream",
     "text": [
      "[ 1  0  0 -1  0  0  0  0  0  0 -1  0  0  0  0  0 -1  1  1  0  0  0  0  0\n",
      "  0  0 -1  0  1  0  0  0 -1 -1  0  0 -1  0 -1  0  0  0 -1  0 -1  0 -1  0\n",
      "  0 -2 -1 -1  0 -1  0  0  0  1  0  0  0  0 -1  0  0  0 -2 -1 -1  0  0  1\n",
      " -1  0  0  0  1  0  0  0  0  0 -1  0  0  0  0  0  0  0  0  0  0  0  0  0\n",
      "  0 -1 -1  0]\n"
     ]
    }
   ],
   "source": [
    "X_test = X_test.reshape(seq_number*nb_files, timesteps, batch_size, electrodes, 1)\n",
    "print(X_test[0,0,:,0,0])"
   ]
  },
  {
   "cell_type": "code",
   "execution_count": 7,
   "metadata": {},
   "outputs": [
    {
     "name": "stdout",
     "output_type": "stream",
     "text": [
      "Reading:database/chb01_1.edf ...\n",
      "Reading:database/chb01_2.edf ...\n",
      "Reading:database/chb01_3.edf ...\n",
      "Reading:database/chb01_4.edf ...\n",
      "Reading:database/chb01_5.edf ...\n",
      "Reading:database/chb01_6.edf ...\n",
      "Reading:database/chb01_7.edf ...\n",
      "Reading:database/chb01_8.edf ...\n",
      "Reading:database/chb01_9.edf ...\n",
      "Reading:database/chb01_10.edf ...\n",
      "Reading:database/chb01_11.edf ...\n",
      "Reading:database/chb01_12.edf ...\n",
      "Reading:database/chb01_13.edf ...\n",
      "Reading:database/chb01_14.edf ...\n",
      "Reading:database/chb01_15.edf ...\n",
      "Reading:database/chb01_16.edf ...\n",
      "Reading:database/chb01_17.edf ...\n",
      "Reading:database/chb01_18.edf ...\n",
      "Reading:database/chb01_19.edf ...\n",
      "Reading:database/chb01_20.edf ...\n",
      "reshaping sizes\n",
      "new shape is (23, 921600)\n",
      "Reading:database/chb01_21.edf ...\n",
      "Reading:database/chb01_22.edf ...\n",
      "Reading:database/chb01_23.edf ...\n",
      "Reading:database/chb01_24.edf ...\n",
      "Reading:database/chb01_25.edf ...\n",
      "Reading:database/chb01_26.edf ...\n",
      "reshaping sizes\n",
      "new shape is (23, 921600)\n",
      "595200\n",
      "Reading files  19  to  26 \n",
      "\n",
      "initial time: 0\n",
      "Reading files  19  to  26 \n",
      "\n",
      "initial time: 0\n",
      "Reading files  19  to  26 \n",
      "\n",
      "initial time: 0\n",
      "Reading files  19  to  26 \n",
      "\n",
      "initial time: 0\n",
      "Reading files  19  to  26 \n",
      "\n",
      "initial time: 0\n",
      "Reading files  19  to  26 \n",
      "\n",
      "initial time: 0\n",
      "Reading files  19  to  26 \n",
      "\n",
      "initial time: 0\n",
      "Reading files  19  to  26 \n",
      "\n",
      "initial time: 400000\n",
      "Normalizing data ... \n"
     ]
    }
   ],
   "source": []
  },
  {
   "cell_type": "code",
   "execution_count": null,
   "metadata": {},
   "outputs": [],
   "source": []
  }
 ],
 "metadata": {
  "kernelspec": {
   "display_name": "Python 3",
   "language": "python",
   "name": "python3"
  },
  "language_info": {
   "codemirror_mode": {
    "name": "ipython",
    "version": 3
   },
   "file_extension": ".py",
   "mimetype": "text/x-python",
   "name": "python",
   "nbconvert_exporter": "python",
   "pygments_lexer": "ipython3",
   "version": "3.6.8"
  }
 },
 "nbformat": 4,
 "nbformat_minor": 2
}
